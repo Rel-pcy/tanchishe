{
 "cells": [
  {
   "cell_type": "code",
   "execution_count": 2,
   "metadata": {},
   "outputs": [
    {
     "name": "stdout",
     "output_type": "stream",
     "text": [
      "Game Over\n"
     ]
    }
   ],
   "source": [
    "from IPython import display\n",
    "import numpy as np\n",
    "import keyboard\n",
    "import random\n",
    "import matplotlib.pyplot as plt\n",
    "pos=[(2,3),(2,4),(2,5),(2,6),(2,7)]\n",
    "x1,y1=1,0#初始的移动方向\n",
    "x=[]\n",
    "def move(i):\n",
    "    x1, y2 = 0, 0\n",
    "    if i == 'up':\n",
    "        x1 = -1\n",
    "    if i == 'down':\n",
    "        x1 = 1\n",
    "    if i == 'right':\n",
    "        y2 = 1\n",
    "    if i == 'left':\n",
    "        y2 = -1\n",
    "    return x1,y2\n",
    "def Food():\n",
    "    n=np.where(snake==0)\n",
    "    i=random.randrange(0,len(n[0]))\n",
    "    return n[0][i],n[1][i]#返回食物的坐标\n",
    "def position(x,y):#利用增加head 去尾来实现移动\n",
    "    head = ((pos[0][0]+x), (pos[0][1]+y))\n",
    "    pos.insert(0, head)\n",
    "    snake[pos[-1][0]][pos[-1][1]]=0\n",
    "    pos.pop()\n",
    "    return pos\n",
    "snake=np.zeros((30,30),dtype=np.int)\n",
    "snake=np.pad(snake,pad_width=1,mode='constant',constant_values=1)#生产墙\n",
    "food=Food()\n",
    "while True:\n",
    "    keyboard.start_recording()#记录键盘\n",
    "    if len(x):\n",
    "        x3,y3=x1,y1\n",
    "        x1,y1=move(x[0].name)#获得方向\n",
    "        if x1 == -x3:#防止向右移动时按住左键的暴毙\n",
    "            x1=x3\n",
    "        if y1 == -y3:\n",
    "            y1 =y3\n",
    "    position(x1,y1)#移动蛇身\n",
    "    if  snake[pos[0]]==1:\n",
    "        print('Game Over')#判断死亡 条件 蛇头装蛇身，或者 撞墙\n",
    "        break\n",
    "    for i in pos:\n",
    "        snake[i[0],i[1]]=1#绘制蛇身\n",
    "    snake[food]=3#绘制食物\n",
    "    if food ==pos[0]:\n",
    "        pos.append((pos[-1][0]-x1,pos[-1][0]-y1))#加入尾部\n",
    "        snake[food]=0\n",
    "        food=Food()#被吃掉的食物的位置的像素更改背景\n",
    "    plt.matshow(snake,cmap=\"hot\")#生成图像\n",
    "    plt.axis('off')\n",
    "    plt.pause(0.2)\n",
    "    display.clear_output(wait=True)\n",
    "    x=keyboard.stop_recording()\n"
   ]
  },
  {
   "cell_type": "code",
   "execution_count": null,
   "metadata": {},
   "outputs": [],
   "source": []
  }
 ],
 "metadata": {
  "kernelspec": {
   "display_name": "Python 3",
   "language": "python",
   "name": "python3"
  },
  "language_info": {
   "codemirror_mode": {
    "name": "ipython",
    "version": 3
   },
   "file_extension": ".py",
   "mimetype": "text/x-python",
   "name": "python",
   "nbconvert_exporter": "python",
   "pygments_lexer": "ipython3",
   "version": "3.7.4"
  }
 },
 "nbformat": 4,
 "nbformat_minor": 2
}
